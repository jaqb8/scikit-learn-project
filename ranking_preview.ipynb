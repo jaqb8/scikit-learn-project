{
 "metadata": {
  "language_info": {
   "codemirror_mode": {
    "name": "ipython",
    "version": 3
   },
   "file_extension": ".py",
   "mimetype": "text/x-python",
   "name": "python",
   "nbconvert_exporter": "python",
   "pygments_lexer": "ipython3",
   "version": "3.8.5-final"
  },
  "orig_nbformat": 2,
  "kernelspec": {
   "name": "Python 3.8.5 64-bit ('venv')",
   "display_name": "Python 3.8.5 64-bit ('venv')",
   "metadata": {
    "interpreter": {
     "hash": "da8732e9bac2d3ff530bcfb6fb6d76da17316b9461546397adc95bfc6ce9ce2b"
    }
   }
  }
 },
 "nbformat": 4,
 "nbformat_minor": 2,
 "cells": [
  {
   "cell_type": "code",
   "execution_count": 1,
   "metadata": {},
   "outputs": [],
   "source": [
    "from load_data import load_data\n",
    "from ranking import perform_ranking, print_ranking"
   ]
  },
  {
   "cell_type": "code",
   "execution_count": 2,
   "metadata": {},
   "outputs": [],
   "source": [
    "data, classes = load_data('./data_csv.csv')"
   ]
  },
  {
   "cell_type": "code",
   "execution_count": 3,
   "metadata": {},
   "outputs": [
    {
     "output_type": "stream",
     "name": "stdout",
     "text": [
      "     Temperatura  Anemia  Stopień krwawienia  Miejsce krwawienia  Bóle kości  \\\n0              2       1                   1                   1           1   \n1              2       2                   1                   2           2   \n2              2       1                   2                   2           2   \n3              2       1                   1                   1           2   \n4              1       1                   1                   1           2   \n..           ...     ...                 ...                 ...         ...   \n404            2       2                   1                   3           2   \n405            1       3                   1                   2           2   \n406            2       1                   1                   1           1   \n407            2       3                   1                   6           2   \n408            1       3                   1                   6           1   \n\n     Wrażliwość mostka  Powiększenie węzłów chłonnych  \\\n0                    1                              1   \n1                    1                              2   \n2                    1                              1   \n3                    1                              2   \n4                    1                              1   \n..                 ...                            ...   \n404                  1                              1   \n405                  1                              1   \n406                  1                              1   \n407                  1                              2   \n408                  1                              2   \n\n     Powiększenie wątroby i śledziony  \\\n0                                   1   \n1                                   1   \n2                                   1   \n3                                   1   \n4                                   1   \n..                                ...   \n404                                 2   \n405                                 2   \n406                                 1   \n407                                 1   \n408                                 1   \n\n     Centralny układ nerwowy (ból głowy, wymioty, drgawki, senność, śpiączka)  \\\n0                                                    2                          \n1                                                    2                          \n2                                                    2                          \n3                                                    1                          \n4                                                    2                          \n..                                                 ...                          \n404                                                  1                          \n405                                                  2                          \n406                                                  1                          \n407                                                  2                          \n408                                                  1                          \n\n     Powiększenie jąder  Uszkodzenie w sercu, płucach, nerce  \\\n0                     1                                    2   \n1                     2                                    1   \n2                     2                                    2   \n3                     1                                    2   \n4                     2                                    2   \n..                  ...                                  ...   \n404                   1                                    2   \n405                   1                                    2   \n406                   1                                    1   \n407                   2                                    2   \n408                   1                                    2   \n\n     Gałka oczna (zaburzenia w widzeniu, krwawienie siatkówki, wytrzeszcz oczu)  \\\n0                                                    1                            \n1                                                    1                            \n2                                                    1                            \n3                                                    1                            \n4                                                    1                            \n..                                                 ...                            \n404                                                  2                            \n405                                                  2                            \n406                                                  2                            \n407                                                  2                            \n408                                                  1                            \n\n     Poziom WBC (leukocytów)  Obniżenie liczby RRC (erytrocytów)  \\\n0                          1                                   3   \n1                          1                                   2   \n2                          2                                   3   \n3                          2                                   3   \n4                          2                                   3   \n..                       ...                                 ...   \n404                        2                                   2   \n405                        2                                   1   \n406                        2                                   1   \n407                        1                                   1   \n408                        2                                   2   \n\n     Liczba płytek krwi  Niedojrzałe komórki  Stan pobudzenia szpiku  \\\n0                     2                    2                       1   \n1                     1                    2                       1   \n2                     2                    2                       1   \n3                     1                    2                       2   \n4                     2                    1                       1   \n..                  ...                  ...                     ...   \n404                   2                    2                       3   \n405                   2                    1                       3   \n406                   2                    2                       3   \n407                   1                    2                       3   \n408                   2                    1                       2   \n\n     Główne komórki w szpiku  Poziom limfocytów  Reakcja  \n0                          2                  4        1  \n1                          1                  2        1  \n2                          3                  3        2  \n3                          2                  3        2  \n4                          3                  3        2  \n..                       ...                ...      ...  \n404                        3                  2        2  \n405                        2                  1        2  \n406                        1                  1        2  \n407                        1                  1        1  \n408                        2                  2        2  \n\n[409 rows x 20 columns] 0       1\n1       1\n2       1\n3       1\n4       1\n       ..\n404    20\n405    20\n406    20\n407    20\n408    20\nName: Class, Length: 409, dtype: int64\n"
     ]
    }
   ],
   "source": [
    "print(data, classes)"
   ]
  },
  {
   "cell_type": "code",
   "execution_count": 4,
   "metadata": {},
   "outputs": [
    {
     "output_type": "stream",
     "name": "stdout",
     "text": [
      "1. Miejsce krwawienia: 111.78504531891141\n2. Stan pobudzenia szpiku: 60.60861463193595\n3. Poziom limfocytów: 55.65199873159398\n4. Anemia: 51.6944903298265\n5. Obniżenie liczby RRC (erytrocytów): 50.40600263835916\n6. Główne komórki w szpiku: 42.29422018876089\n7. Gałka oczna (zaburzenia w widzeniu, krwawienie siatkówki, wytrzeszcz oczu): 19.381451256391408\n8. Liczba płytek krwi: 14.805849618222855\n9. Wrażliwość mostka: 11.837869211438584\n10. Powiększenie jąder: 11.049244834115807\n"
     ]
    }
   ],
   "source": [
    "ranking = perform_ranking(data, classes)\n",
    "print_ranking(ranking)"
   ]
  },
  {
   "cell_type": "code",
   "execution_count": null,
   "metadata": {},
   "outputs": [],
   "source": []
  }
 ]
}